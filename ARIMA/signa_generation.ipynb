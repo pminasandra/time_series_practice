{
 "cells": [
  {
   "cell_type": "code",
   "execution_count": 13,
   "id": "b355d5df",
   "metadata": {},
   "outputs": [
    {
     "ename": "SyntaxError",
     "evalue": "invalid syntax (signal_creation.py, line 4)",
     "output_type": "error",
     "traceback": [
      "Traceback \u001b[0;36m(most recent call last)\u001b[0m:\n",
      "  File \u001b[1;32m~/Library/Python/3.8/lib/python/site-packages/IPython/core/interactiveshell.py:3398\u001b[0m in \u001b[1;35mrun_code\u001b[0m\n    exec(code_obj, self.user_global_ns, self.user_ns)\n",
      "\u001b[0;36m  Input \u001b[0;32mIn [13]\u001b[0;36m in \u001b[0;35m<cell line: 1>\u001b[0;36m\u001b[0m\n\u001b[0;31m    import signal_creation\u001b[0m\n",
      "\u001b[0;36m  File \u001b[0;32m~/Library/Mobile Documents/com~apple~CloudDocs/Documents/Code/Python/time_series_personal/time_series_practice/ARIMA/signal_creation.py:4\u001b[0;36m\u001b[0m\n\u001b[0;31m    poly = x**2+2x+1\u001b[0m\n\u001b[0m                 ^\u001b[0m\n\u001b[0;31mSyntaxError\u001b[0m\u001b[0;31m:\u001b[0m invalid syntax\n"
     ]
    }
   ],
   "source": [
    "import signal_creation"
   ]
  },
  {
   "cell_type": "code",
   "execution_count": 2,
   "id": "cfc6ba9b",
   "metadata": {},
   "outputs": [],
   "source": [
    "tmin = 0\n",
    "tmax = 1\n",
    "tstep = 0.01\n",
    "\n",
    "var = 0.1"
   ]
  },
  {
   "cell_type": "code",
   "execution_count": 3,
   "id": "3d049f7d",
   "metadata": {},
   "outputs": [],
   "source": [
    "def poly_time_series(poly, x, var):\n",
    "    y = poly(x) + np.random.normal(0,var,len(x))\n",
    "    return(y)"
   ]
  },
  {
   "cell_type": "code",
   "execution_count": 6,
   "id": "3d3f2445",
   "metadata": {},
   "outputs": [],
   "source": [
    "a = [1,2,3,4]"
   ]
  },
  {
   "cell_type": "code",
   "execution_count": 7,
   "id": "21686d7b",
   "metadata": {},
   "outputs": [],
   "source": [
    "poly = np.poly1d(a)\n",
    "\n",
    "x = np.arange(tmin,tmax,tstep)\n",
    "y = poly_time_series(poly,x,var)"
   ]
  },
  {
   "cell_type": "code",
   "execution_count": 8,
   "id": "9c5e623d",
   "metadata": {},
   "outputs": [
    {
     "data": {
      "text/plain": [
       "<matplotlib.collections.PathCollection at 0x118bb27f0>"
      ]
     },
     "execution_count": 8,
     "metadata": {},
     "output_type": "execute_result"
    },
    {
     "data": {
      "image/png": "[encoded data removed]",
      "text/plain": [
       "<Figure size 432x288 with 1 Axes>"
      ]
     },
     "metadata": {
      "needs_background": "light"
     },
     "output_type": "display_data"
    }
   ],
   "source": [
    "plt.scatter(x,y)"
   ]
  },
  {
   "cell_type": "code",
   "execution_count": null,
   "id": "50f3b2d5",
   "metadata": {},
   "outputs": [],
   "source": []
  }
 ],
 "metadata": {
  "kernelspec": {
   "display_name": "Python 3 (ipykernel)",
   "language": "python",
   "name": "python3"
  },
  "language_info": {
   "codemirror_mode": {
    "name": "ipython",
    "version": 3
   },
   "file_extension": ".py",
   "mimetype": "text/x-python",
   "name": "python",
   "nbconvert_exporter": "python",
   "pygments_lexer": "ipython3",
   "version": "3.8.9"
  }
 },
 "nbformat": 4,
 "nbformat_minor": 5
}
